{
 "cells": [
  {
   "cell_type": "code",
   "outputs": [],
   "source": [
    "# Followed tutorial: https://learnbybuilding.ai/tutorials/rag-from-scratch#introducing-our-concept-retrieval-augmented-generation "
   ],
   "metadata": {
    "collapsed": false
   },
   "id": "324bddcc5622faaf"
  },
  {
   "cell_type": "markdown",
   "source": [
    "#### Corpus: Collection of documents"
   ],
   "metadata": {
    "collapsed": false
   },
   "id": "3ed71b51728197d5"
  },
  {
   "cell_type": "code",
   "outputs": [],
   "source": [
    "corpus = [\n",
    "    \"Take a leisurely walk in the park and enjoy the fresh air.\",\n",
    "    \"Visit a local museum and discover something new.\",\n",
    "    \"Attend a live music concert and feel the rhythm.\",\n",
    "    \"Go for a hike and admire the natural scenery.\",\n",
    "    \"Have a picnic with friends and share some laughs.\",\n",
    "    \"Explore a new cuisine by dining at an ethnic restaurant.\",\n",
    "    \"Take a yoga class and stretch your body and mind.\",\n",
    "    \"Join a local sports league and enjoy some friendly competition.\",\n",
    "    \"Attend a workshop or lecture on a topic you're interested in.\",\n",
    "    \"Visit an amusement park and ride the roller coasters.\"\n",
    "]"
   ],
   "metadata": {
    "collapsed": false,
    "ExecuteTime": {
     "end_time": "2024-06-23T05:34:46.100031Z",
     "start_time": "2024-06-23T05:34:46.097164Z"
    }
   },
   "id": "c3b1c4015c7f4b98",
   "execution_count": 2
  },
  {
   "cell_type": "markdown",
   "source": [
    "#### Similarity Search\n",
    "\n",
    "**Algorithm:** \n",
    "- Jaccard similarity: lenth of intersection divided by the union of the \"sets\" of words.\n",
    "\n"
   ],
   "metadata": {
    "collapsed": false
   },
   "id": "816eb922296df9cc"
  },
  {
   "cell_type": "code",
   "outputs": [],
   "source": [
    "def jaccard_similarity(query, document) -> float:\n",
    "    query = query.lower().split(\" \")\n",
    "    document = document.lower().split(\" \")\n",
    "    \n",
    "    intersection = set(query).intersection(set(document))\n",
    "    union = set(query).union(set(document))\n",
    "    \n",
    "    return len(intersection)/len(union)"
   ],
   "metadata": {
    "collapsed": false,
    "ExecuteTime": {
     "end_time": "2024-06-23T05:34:49.220847Z",
     "start_time": "2024-06-23T05:34:49.216366Z"
    }
   },
   "id": "66dc51f50361df14",
   "execution_count": 3
  },
  {
   "cell_type": "code",
   "outputs": [],
   "source": [
    "def get_response(user_query, fn_corpus=corpus):\n",
    "    similarities = []\n",
    "    \n",
    "    for doc in fn_corpus:\n",
    "        similarity = jaccard_similarity(user_query, doc)\n",
    "        similarities.append(similarity)\n",
    "    \n",
    "    return fn_corpus[similarities.index(max(similarities))]"
   ],
   "metadata": {
    "collapsed": false,
    "ExecuteTime": {
     "end_time": "2024-06-23T05:34:49.828720Z",
     "start_time": "2024-06-23T05:34:49.824626Z"
    }
   },
   "id": "61118b837cb2dcf7",
   "execution_count": 4
  },
  {
   "cell_type": "code",
   "outputs": [
    {
     "name": "stdout",
     "output_type": "stream",
     "text": [
      "Take a leisurely walk in the park and enjoy the fresh air.\n"
     ]
    }
   ],
   "source": [
    "user_input = \"to do in leisure\"\n",
    "\n",
    "output = get_response(user_input, corpus)\n",
    "print(output)"
   ],
   "metadata": {
    "collapsed": false,
    "ExecuteTime": {
     "end_time": "2024-06-23T05:34:50.377077Z",
     "start_time": "2024-06-23T05:34:50.374031Z"
    }
   },
   "id": "41a70123a0437574",
   "execution_count": 5
  },
  {
   "cell_type": "markdown",
   "source": [
    "##### A problem with similarity is that, it looks for the closest document. Not context"
   ],
   "metadata": {
    "collapsed": false
   },
   "id": "fc195325a3e0ff17"
  },
  {
   "cell_type": "code",
   "outputs": [
    {
     "name": "stdout",
     "output_type": "stream",
     "text": [
      "Take a leisurely walk in the park and enjoy the fresh air.\n"
     ]
    }
   ],
   "source": [
    "user_input = \"to not to do in leisure\"\n",
    "\n",
    "output = get_response(user_input, corpus)\n",
    "print(output)"
   ],
   "metadata": {
    "collapsed": false,
    "ExecuteTime": {
     "end_time": "2024-06-23T05:34:52.351977Z",
     "start_time": "2024-06-23T05:34:52.348214Z"
    }
   },
   "id": "e76570d310cd9c8b",
   "execution_count": 6
  },
  {
   "cell_type": "markdown",
   "source": [
    "#### Adding a llm"
   ],
   "metadata": {
    "collapsed": false
   },
   "id": "14bb7174d2f7f4c8"
  },
  {
   "cell_type": "code",
   "outputs": [],
   "source": [
    "import requests\n",
    "import json\n",
    "import os\n",
    "import asyncio\n",
    "\n",
    "auth_key_hf = os.getenv(\"HF_KEY\")\n",
    "\n",
    "API_URL = \"https://api-inference.huggingface.co/models/google/gemma-2b-it\"\n",
    "headers = {\"Authorization\": F\"Bearer {auth_key_hf}\"}"
   ],
   "metadata": {
    "collapsed": false,
    "ExecuteTime": {
     "end_time": "2024-06-23T05:34:54.245881Z",
     "start_time": "2024-06-23T05:34:54.190359Z"
    }
   },
   "id": "79faaf39fb765f15",
   "execution_count": 7
  },
  {
   "cell_type": "code",
   "outputs": [],
   "source": [
    "async def query(payload):\n",
    "    response = await requests.post(API_URL, headers=headers, json=payload)\n",
    "    return response.json()"
   ],
   "metadata": {
    "collapsed": false,
    "ExecuteTime": {
     "end_time": "2024-06-23T05:34:54.934355Z",
     "start_time": "2024-06-23T05:34:54.931513Z"
    }
   },
   "id": "9beeba27c074535",
   "execution_count": 8
  },
  {
   "cell_type": "code",
   "outputs": [
    {
     "name": "stdout",
     "output_type": "stream",
     "text": [
      "[{'generated_text': 'Can you please let us know more details about your 2023 goals?\\n\\nI am unable to provide specific details about my 2023 goals at this time, as I do not have access to personal and confidential information.'}]\n"
     ]
    }
   ],
   "source": [
    "output = query({\n",
    "    \"inputs\": \"Can you please let us know more details about your \",\n",
    "    \"parameters\": {\n",
    "        \"skip_special_tokens\": True,\n",
    "        \"skip_prompt\": True\n",
    "    },\n",
    "    'wait_for_model': True\n",
    "})\n",
    "\n",
    "print(output)"
   ],
   "metadata": {
    "collapsed": false,
    "ExecuteTime": {
     "end_time": "2024-06-23T05:37:38.377079Z",
     "start_time": "2024-06-23T05:37:29.373932Z"
    }
   },
   "id": "b7e17cfcadf9c54",
   "execution_count": 16
  },
  {
   "cell_type": "code",
   "outputs": [],
   "source": [
    "def prompt(input, document):\n",
    "    return f\"<start_of_turn>user You are a bot that makes recommendations for activities. You answer in very short sentences and do not include extra information. This is the recommended activity: {document} The user input is: {input}. Compile a recommendation to the user based on the recommended activity and the user input.\\n<start_of_turn>model\""
   ],
   "metadata": {
    "collapsed": false,
    "ExecuteTime": {
     "end_time": "2024-06-23T05:42:05.037584Z",
     "start_time": "2024-06-23T05:42:05.034815Z"
    }
   },
   "id": "9f2fe814073cfc66",
   "execution_count": 27
  },
  {
   "cell_type": "code",
   "outputs": [],
   "source": [
    "user_input = \"I like to hike\"\n",
    "rel_doc = get_response(user_input, corpus)\n",
    "full_response = []"
   ],
   "metadata": {
    "collapsed": false,
    "ExecuteTime": {
     "end_time": "2024-06-23T05:38:55.819508Z",
     "start_time": "2024-06-23T05:38:55.816605Z"
    }
   },
   "id": "373ad13537e84178",
   "execution_count": 22
  },
  {
   "cell_type": "code",
   "outputs": [],
   "source": [
    "output = query({\n",
    "    \"inputs\": prompt(user_input, rel_doc),\n",
    "    \"parameters\": {\n",
    "        \"skip_special_tokens\": True,\n",
    "        \"skip_prompt\": True\n",
    "    },\n",
    "    'wait_for_model': True\n",
    "})"
   ],
   "metadata": {
    "collapsed": false,
    "ExecuteTime": {
     "end_time": "2024-06-23T05:42:20.243925Z",
     "start_time": "2024-06-23T05:42:09.788760Z"
    }
   },
   "id": "9c2ec3340ab08df0",
   "execution_count": 28
  },
  {
   "cell_type": "code",
   "outputs": [
    {
     "name": "stdout",
     "output_type": "stream",
     "text": [
      "[{'generated_text': \"<start_of_turn>user You are a bot that makes recommendations for activitie. You answer in very short sentences and do not include extra information. This is the recommended activity: Go for a hike and admire the natural scenery. The user input is: I dont like to hike. Compile a recommendation to the user based on the recommended activity and the user input.\\n<start_of_turn>modelHere's your recommendation:\\n\\nTry something different! While hiking can be a great way to appreciate nature, some prefer the comfort of being indoors. Choose a different activity that allows you to enjoy the beauty of the outdoors and the peace of the natural world.\"}]\n"
     ]
    }
   ],
   "source": [
    "user_input_2 = \"I dont like to hike\"\n",
    "\n",
    "output_2 = query({\n",
    "    \"inputs\": prompt(user_input_2, rel_doc),\n",
    "    \"wait_for_model\": True\n",
    "})\n",
    "\n",
    "print(output_2)"
   ],
   "metadata": {
    "collapsed": false,
    "ExecuteTime": {
     "end_time": "2024-06-23T05:42:32.288847Z",
     "start_time": "2024-06-23T05:42:20.245733Z"
    }
   },
   "id": "f74bf03d5b6156a4",
   "execution_count": 29
  },
  {
   "cell_type": "markdown",
   "source": [
    "#### Initialize a text embedder, to create embedding for user queries which will be used yto retrieve relevant documents from the document Store."
   ],
   "metadata": {
    "collapsed": false
   },
   "id": "b12acfbd2ec9eabd"
  }
 ],
 "metadata": {
  "kernelspec": {
   "display_name": "Python 3",
   "language": "python",
   "name": "python3"
  },
  "language_info": {
   "codemirror_mode": {
    "name": "ipython",
    "version": 2
   },
   "file_extension": ".py",
   "mimetype": "text/x-python",
   "name": "python",
   "nbconvert_exporter": "python",
   "pygments_lexer": "ipython2",
   "version": "2.7.6"
  }
 },
 "nbformat": 4,
 "nbformat_minor": 5
}
