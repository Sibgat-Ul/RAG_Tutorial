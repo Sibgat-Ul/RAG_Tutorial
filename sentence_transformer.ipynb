{
 "cells": [
  {
   "cell_type": "markdown",
   "source": [
    "from https://www.sbert.net/examples/applications/semantic-search/README.html"
   ],
   "metadata": {
    "collapsed": false
   },
   "id": "bb86cbf2f6c6dbee"
  },
  {
   "cell_type": "code",
   "outputs": [],
   "source": [
    "from sentence_transformers import SentenceTransformer as ST\n",
    "\n",
    "model = ST('all-MiniLM-L6-v2')"
   ],
   "metadata": {
    "collapsed": false
   },
   "id": "1f015c9d16f15d51"
  },
  {
   "cell_type": "markdown",
   "source": [
    "### define sentences"
   ],
   "metadata": {
    "collapsed": false
   },
   "id": "d06959010f0c857e"
  },
  {
   "cell_type": "code",
   "outputs": [],
   "source": [
    "sentences1 = ['This framework generates embeddings for each input sentence',\n",
    "             'Sentences are passed as a list of string.',\n",
    "             'The quick brown fox jumps over the lazy dog.']\n",
    "\n",
    "sentences2 = ['A framework that generates embeddings for each input sentence',\n",
    "             'The sentences need to be passed as a list of string.',\n",
    "             'The lazy brown dog jumps over the quick fox.']"
   ],
   "metadata": {
    "collapsed": false
   },
   "id": "bee117b8f5494cde"
  },
  {
   "cell_type": "markdown",
   "source": [
    "### Embedding sentences"
   ],
   "metadata": {
    "collapsed": false
   },
   "id": "566b1ee7409bb29c"
  },
  {
   "cell_type": "code",
   "outputs": [],
   "source": [
    "embeddings1 = model.encode(sentences1)\n",
    "embeddings2 = model.encode(sentences2)"
   ],
   "metadata": {
    "collapsed": false
   },
   "id": "28379edf9888f50d"
  },
  {
   "cell_type": "markdown",
   "source": [
    "### Calculate Similarities"
   ],
   "metadata": {
    "collapsed": false
   },
   "id": "2dba86b938c0d855"
  },
  {
   "cell_type": "code",
   "outputs": [],
   "source": [
    "similarities = model.similarity(sentences1, sentences2)\n",
    "print(similarities)"
   ],
   "metadata": {
    "collapsed": false
   },
   "id": "a3731002f623600a"
  },
  {
   "cell_type": "code",
   "outputs": [],
   "source": [
    "for idx_i, sentence1 in enumerate(sentences1):\n",
    "    print(f\"{sentence1}\")\n",
    "    \n",
    "    for idx_j, sentence2 in enumerate(sentences2):\n",
    "        print(f\" - {sentence2: <30}: {similarities[idx_i][idx_j]:.4f}\")"
   ],
   "metadata": {
    "collapsed": false
   },
   "id": "3fe404784679b7a1"
  }
 ],
 "metadata": {
  "kernelspec": {
   "display_name": "Python 3",
   "language": "python",
   "name": "python3"
  },
  "language_info": {
   "codemirror_mode": {
    "name": "ipython",
    "version": 2
   },
   "file_extension": ".py",
   "mimetype": "text/x-python",
   "name": "python",
   "nbconvert_exporter": "python",
   "pygments_lexer": "ipython2",
   "version": "2.7.6"
  }
 },
 "nbformat": 4,
 "nbformat_minor": 5
}
